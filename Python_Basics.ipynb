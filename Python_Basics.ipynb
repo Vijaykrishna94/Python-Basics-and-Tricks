{
 "cells": [
  {
   "cell_type": "markdown",
   "metadata": {},
   "source": [
    "### Programming Language : Used to Instruct the computers to solve problems\n"
   ]
  },
  {
   "cell_type": "markdown",
   "metadata": {},
   "source": [
    "#### Python Evolved out of need to reduce difficulity in Coding by Van Rossum in 1991\n",
    "#### Multipurpose Language : Websites, Desktop Applications, Data Science(ML/DL)"
   ]
  },
  {
   "cell_type": "markdown",
   "metadata": {},
   "source": [
    "#####  Object Oriented- Helps map the real world entities\n",
    "#####  Open Source - Free\n",
    "#####  Powerful Libraries - Pre Coded Functionality (98,579+)\n",
    "#####  Portability - Easily port btwn diff systems\n",
    "#####  Platform Independent - Any OS\n",
    "#####  Multipurpose\n"
   ]
  },
  {
   "cell_type": "markdown",
   "metadata": {},
   "source": [
    "#### IDE -Integrated Development Engine"
   ]
  },
  {
   "cell_type": "code",
   "execution_count": 1,
   "metadata": {},
   "outputs": [
    {
     "name": "stdout",
     "output_type": "stream",
     "text": [
      "Hello World\n"
     ]
    }
   ],
   "source": [
    "print('Hello World')"
   ]
  },
  {
   "cell_type": "markdown",
   "metadata": {},
   "source": [
    "#### Python = Keyword(print)+ Grammar(Syntax)"
   ]
  },
  {
   "cell_type": "code",
   "execution_count": 2,
   "metadata": {},
   "outputs": [],
   "source": [
    "# Comments are the descriptions\n",
    "# Use Shit+Enter to Execute Cell\n"
   ]
  },
  {
   "cell_type": "code",
   "execution_count": 3,
   "metadata": {},
   "outputs": [],
   "source": [
    "# Identifiers in Python"
   ]
  },
  {
   "cell_type": "code",
   "execution_count": 4,
   "metadata": {},
   "outputs": [],
   "source": [
    "meter =10\n",
    "name=\"Chris\"\n",
    "Distance=1750"
   ]
  },
  {
   "cell_type": "markdown",
   "metadata": {},
   "source": [
    "#### 100 Whole number-int, 95.2 - float, 'abc'-Str,True/False-Boolean\n",
    "#### Needs to be stored in a Container\n",
    "####       Bag =                               100\n",
    "      ^\n",
    "      |\n",
    "#### Identifier(name)+ Container=Variable     "
   ]
  },
  {
   "cell_type": "code",
   "execution_count": 5,
   "metadata": {},
   "outputs": [
    {
     "name": "stdout",
     "output_type": "stream",
     "text": [
      "Merry Suzan\n"
     ]
    }
   ],
   "source": [
    "name='Merry Suzan'\n",
    "print(name)"
   ]
  },
  {
   "cell_type": "code",
   "execution_count": 6,
   "metadata": {},
   "outputs": [
    {
     "name": "stdout",
     "output_type": "stream",
     "text": [
      "Merry Suzan is 21\n"
     ]
    }
   ],
   "source": [
    "age=21\n",
    "print(name,'is',age)"
   ]
  },
  {
   "cell_type": "code",
   "execution_count": 7,
   "metadata": {},
   "outputs": [],
   "source": [
    "# Type Identification"
   ]
  },
  {
   "cell_type": "code",
   "execution_count": 10,
   "metadata": {},
   "outputs": [
    {
     "name": "stdout",
     "output_type": "stream",
     "text": [
      "<class 'float'>\n"
     ]
    }
   ],
   "source": [
    "taxrate=9.5\n",
    "print(type(taxrate))"
   ]
  },
  {
   "cell_type": "markdown",
   "metadata": {},
   "source": [
    "## Opertors"
   ]
  },
  {
   "cell_type": "markdown",
   "metadata": {},
   "source": [
    "### Arithemitic "
   ]
  },
  {
   "cell_type": "code",
   "execution_count": 11,
   "metadata": {},
   "outputs": [],
   "source": [
    "# Understanding Operators \n",
    "#+,/,-,*,%"
   ]
  },
  {
   "cell_type": "code",
   "execution_count": 12,
   "metadata": {},
   "outputs": [
    {
     "name": "stdout",
     "output_type": "stream",
     "text": [
      "5+2 7\n",
      "5-2 3\n",
      "5/2 2.5\n",
      "5*2 10\n",
      "5%2 1\n"
     ]
    }
   ],
   "source": [
    "print('5+2',5+2)\n",
    "print('5-2',5-2)\n",
    "print('5/2',5/2)\n",
    "print('5*2',5*2)\n",
    "print('5%2',5%2)"
   ]
  },
  {
   "cell_type": "markdown",
   "metadata": {},
   "source": [
    "### Comparision"
   ]
  },
  {
   "cell_type": "code",
   "execution_count": 14,
   "metadata": {},
   "outputs": [],
   "source": [
    "# Comparision\n",
    "#>,<,>=,<=,!=,=="
   ]
  },
  {
   "cell_type": "code",
   "execution_count": 19,
   "metadata": {},
   "outputs": [
    {
     "name": "stdout",
     "output_type": "stream",
     "text": [
      "True\n",
      "False\n",
      "True\n",
      "False\n",
      "True\n"
     ]
    }
   ],
   "source": [
    "print(5>2)\n",
    "print(5<2)\n",
    "print(50>=2)\n",
    "print(5==4)\n",
    "print(10==10)"
   ]
  },
  {
   "cell_type": "markdown",
   "metadata": {},
   "source": [
    "### Membership Operation"
   ]
  },
  {
   "cell_type": "code",
   "execution_count": 21,
   "metadata": {},
   "outputs": [],
   "source": [
    "# in or not in\n",
    "bucket=['Apple','Mango','Cherry']\n"
   ]
  },
  {
   "cell_type": "code",
   "execution_count": 23,
   "metadata": {},
   "outputs": [
    {
     "data": {
      "text/plain": [
       "True"
      ]
     },
     "execution_count": 23,
     "metadata": {},
     "output_type": "execute_result"
    }
   ],
   "source": [
    "'Mango' in bucket"
   ]
  },
  {
   "cell_type": "code",
   "execution_count": 24,
   "metadata": {},
   "outputs": [
    {
     "data": {
      "text/plain": [
       "False"
      ]
     },
     "execution_count": 24,
     "metadata": {},
     "output_type": "execute_result"
    }
   ],
   "source": [
    "'Pineapple' in bucket"
   ]
  },
  {
   "cell_type": "markdown",
   "metadata": {},
   "source": [
    "## Loops"
   ]
  },
  {
   "cell_type": "markdown",
   "metadata": {},
   "source": [
    "#### Loops-Mantra- Any Activity is repetetive in nature use loop"
   ]
  },
  {
   "cell_type": "code",
   "execution_count": 28,
   "metadata": {},
   "outputs": [
    {
     "name": "stdout",
     "output_type": "stream",
     "text": [
      "Hi\n",
      "Hi\n",
      "Hi\n",
      "This will no repeat\n"
     ]
    }
   ],
   "source": [
    "# Loop in python\n",
    "\n",
    "# Phase 1: range() Function Generates Numbers\n",
    "# I/P:range(5)\n",
    "\n",
    "# O/P : 0,1,2,3,4\n",
    "\n",
    "\n",
    "# Phase 2:\n",
    "\n",
    "\n",
    "for n in range(3):\n",
    "    print('Hi')\n",
    "print('This will no repeat')"
   ]
  },
  {
   "cell_type": "code",
   "execution_count": 2,
   "metadata": {},
   "outputs": [
    {
     "name": "stdout",
     "output_type": "stream",
     "text": [
      "1\n",
      "3\n",
      "5\n",
      "7\n",
      "9\n"
     ]
    }
   ],
   "source": [
    "# While Loop\n",
    "meter=1\n",
    "while(meter<=10):\n",
    "    print(meter)\n",
    "    meter+=2"
   ]
  },
  {
   "cell_type": "code",
   "execution_count": 1,
   "metadata": {},
   "outputs": [
    {
     "name": "stdout",
     "output_type": "stream",
     "text": [
      "Enter a Character\n",
      "t\n",
      "Vowel Not Found\n"
     ]
    }
   ],
   "source": [
    " # Program to find wheter a vowel or not\n",
    "inp= input('Enter a Character\\n')\n",
    "\n",
    "if inp in \"aeiou\":\n",
    "    print('Vowel Found')\n",
    "else:\n",
    "    print('Vowel Not Found')"
   ]
  },
  {
   "cell_type": "code",
   "execution_count": null,
   "metadata": {},
   "outputs": [],
   "source": [
    "# Zip Function"
   ]
  },
  {
   "cell_type": "code",
   "execution_count": 166,
   "metadata": {},
   "outputs": [],
   "source": [
    "numbers=[1,2,3]\n",
    "letters =['a','b','c']"
   ]
  },
  {
   "cell_type": "code",
   "execution_count": 170,
   "metadata": {},
   "outputs": [],
   "source": [
    "zipped=zip(numbers,letters)"
   ]
  },
  {
   "cell_type": "code",
   "execution_count": 172,
   "metadata": {},
   "outputs": [
    {
     "data": {
      "text/plain": [
       "[(1, 'a'), (2, 'b'), (3, 'c')]"
      ]
     },
     "execution_count": 172,
     "metadata": {},
     "output_type": "execute_result"
    }
   ],
   "source": [
    "list(zipped)"
   ]
  },
  {
   "cell_type": "code",
   "execution_count": null,
   "metadata": {},
   "outputs": [],
   "source": []
  },
  {
   "cell_type": "code",
   "execution_count": null,
   "metadata": {},
   "outputs": [],
   "source": []
  },
  {
   "cell_type": "markdown",
   "metadata": {},
   "source": [
    "## Functions"
   ]
  },
  {
   "cell_type": "code",
   "execution_count": 1,
   "metadata": {},
   "outputs": [],
   "source": [
    "# Declaring A Function\n",
    "def greet():\n",
    "    print('Greetings from Vijay')"
   ]
  },
  {
   "cell_type": "code",
   "execution_count": 2,
   "metadata": {},
   "outputs": [],
   "source": [
    "def getsquared(n):\n",
    "    print(n*n)"
   ]
  },
  {
   "cell_type": "code",
   "execution_count": 3,
   "metadata": {},
   "outputs": [
    {
     "name": "stdout",
     "output_type": "stream",
     "text": [
      "Greetings from Vijay\n"
     ]
    }
   ],
   "source": [
    "greet()"
   ]
  },
  {
   "cell_type": "code",
   "execution_count": 4,
   "metadata": {},
   "outputs": [
    {
     "name": "stdout",
     "output_type": "stream",
     "text": [
      "25\n",
      "None\n"
     ]
    }
   ],
   "source": [
    "print(getsquared(5))"
   ]
  },
  {
   "cell_type": "markdown",
   "metadata": {},
   "source": [
    "# Data Structure\n"
   ]
  },
  {
   "cell_type": "markdown",
   "metadata": {},
   "source": [
    "#### Solution for storage and processing needs \n",
    "#### Organising and storing data\n",
    "##### Add an Element\n",
    "##### Delete Elements\n",
    "##### Transverse\n",
    "##### Sort\n",
    "#### Primitive Data Types - Int, FLoat, Strings, Booleans\n",
    "#### Non Primitive- List,Tuple,Set,Dictionary\n"
   ]
  },
  {
   "cell_type": "markdown",
   "metadata": {},
   "source": [
    "## String- Alpha Numeric\n",
    "#### Is a Grp of Characters\n",
    "### Visualizing a String\n",
    "#### < -len=5- >\n",
    "####  H E L L O\n",
    "####  0 1  2 3 4   --------> Indexes"
   ]
  },
  {
   "cell_type": "code",
   "execution_count": 2,
   "metadata": {},
   "outputs": [
    {
     "data": {
      "text/plain": [
       "'p'"
      ]
     },
     "execution_count": 2,
     "metadata": {},
     "output_type": "execute_result"
    }
   ],
   "source": [
    "Comp=\"Upgrad\"\n",
    "Comp[1]"
   ]
  },
  {
   "cell_type": "markdown",
   "metadata": {},
   "source": [
    "### String Slicing"
   ]
  },
  {
   "cell_type": "code",
   "execution_count": 5,
   "metadata": {},
   "outputs": [
    {
     "data": {
      "text/plain": [
       "'Spyder'"
      ]
     },
     "execution_count": 5,
     "metadata": {},
     "output_type": "execute_result"
    }
   ],
   "source": [
    "W= \"Spyder man\"\n",
    "W[:6]"
   ]
  },
  {
   "cell_type": "code",
   "execution_count": 6,
   "metadata": {},
   "outputs": [],
   "source": [
    "# Fun With Strings\n",
    "# Data- Log which has Server Details "
   ]
  },
  {
   "cell_type": "code",
   "execution_count": 8,
   "metadata": {},
   "outputs": [],
   "source": [
    "log=\"10.21.166.136 - - [03/Dec/2011:11:57:15 -0800] GET /images/filmpics/0000/7005/MANG3088_3D.jpg HTTP/1.1\"\n"
   ]
  },
  {
   "cell_type": "code",
   "execution_count": 10,
   "metadata": {},
   "outputs": [
    {
     "data": {
      "text/plain": [
       "'2'"
      ]
     },
     "execution_count": 10,
     "metadata": {},
     "output_type": "execute_result"
    }
   ],
   "source": [
    "log[3] # 3 is the index position"
   ]
  },
  {
   "cell_type": "code",
   "execution_count": 14,
   "metadata": {},
   "outputs": [
    {
     "data": {
      "text/plain": [
       "'10.21.166.136'"
      ]
     },
     "execution_count": 14,
     "metadata": {},
     "output_type": "execute_result"
    }
   ],
   "source": [
    "log[0:13]    # [Start: End(-1): Step]"
   ]
  },
  {
   "cell_type": "code",
   "execution_count": 17,
   "metadata": {},
   "outputs": [
    {
     "data": {
      "text/plain": [
       "' - - [03/Dec/2011:11:57:15 -0800] GET /images/filmpics/0000/7005/MANG3088_3D.jpg HTTP/1.1'"
      ]
     },
     "execution_count": 17,
     "metadata": {},
     "output_type": "execute_result"
    }
   ],
   "source": [
    "log[13:]"
   ]
  },
  {
   "cell_type": "code",
   "execution_count": 19,
   "metadata": {},
   "outputs": [
    {
     "data": {
      "text/plain": [
       "14"
      ]
     },
     "execution_count": 19,
     "metadata": {},
     "output_type": "execute_result"
    }
   ],
   "source": [
    "log.index('-')"
   ]
  },
  {
   "cell_type": "code",
   "execution_count": 23,
   "metadata": {},
   "outputs": [
    {
     "data": {
      "text/plain": [
       "'10.21.166.136 '"
      ]
     },
     "execution_count": 23,
     "metadata": {},
     "output_type": "execute_result"
    }
   ],
   "source": [
    "log[:log.index('-')]"
   ]
  },
  {
   "cell_type": "code",
   "execution_count": 24,
   "metadata": {},
   "outputs": [
    {
     "data": {
      "text/plain": [
       "'1'"
      ]
     },
     "execution_count": 24,
     "metadata": {},
     "output_type": "execute_result"
    }
   ],
   "source": [
    "log[-1] # Last Letter"
   ]
  },
  {
   "cell_type": "code",
   "execution_count": 25,
   "metadata": {},
   "outputs": [
    {
     "data": {
      "text/plain": [
       "'1.1'"
      ]
     },
     "execution_count": 25,
     "metadata": {},
     "output_type": "execute_result"
    }
   ],
   "source": [
    "log[-3:]"
   ]
  },
  {
   "cell_type": "code",
   "execution_count": 29,
   "metadata": {},
   "outputs": [],
   "source": [
    "junk=log[log.index('['):log.index(']')]"
   ]
  },
  {
   "cell_type": "code",
   "execution_count": 31,
   "metadata": {},
   "outputs": [
    {
     "data": {
      "text/plain": [
       "'03/Dec/2011'"
      ]
     },
     "execution_count": 31,
     "metadata": {},
     "output_type": "execute_result"
    }
   ],
   "source": [
    "log[log.index('[')+1:log.index(':')]"
   ]
  },
  {
   "cell_type": "code",
   "execution_count": 32,
   "metadata": {},
   "outputs": [
    {
     "data": {
      "text/plain": [
       "'10.21.166.136 - - [03/DEC/2011:11:57:15 -0800] GET /IMAGES/FILMPICS/0000/7005/MANG3088_3D.JPG HTTP/1.1'"
      ]
     },
     "execution_count": 32,
     "metadata": {},
     "output_type": "execute_result"
    }
   ],
   "source": [
    "log.upper()"
   ]
  },
  {
   "cell_type": "code",
   "execution_count": 33,
   "metadata": {},
   "outputs": [
    {
     "data": {
      "text/plain": [
       "'10.21.166.136 - - [03/dec/2011:11:57:15 -0800] get /images/filmpics/0000/7005/mang3088_3d.jpg http/1.1'"
      ]
     },
     "execution_count": 33,
     "metadata": {},
     "output_type": "execute_result"
    }
   ],
   "source": [
    "log.lower()"
   ]
  },
  {
   "cell_type": "markdown",
   "metadata": {},
   "source": [
    "# Data Structres"
   ]
  },
  {
   "cell_type": "markdown",
   "metadata": {},
   "source": [
    "## [List]\n",
    "#### Collection Allows Duplicates\n",
    "#### Complex data type-[9.5,'abc',6,True,['hello','what']]\n",
    "#### Dynamic-Add/Remove elements"
   ]
  },
  {
   "cell_type": "code",
   "execution_count": 37,
   "metadata": {},
   "outputs": [],
   "source": [
    "# Phase 1 : Basic Examples\n",
    "heros=[] # empty List\n"
   ]
  },
  {
   "cell_type": "code",
   "execution_count": 39,
   "metadata": {},
   "outputs": [],
   "source": [
    "heroes=['ironman','natasha','hulk','Blackwidow']\n"
   ]
  },
  {
   "cell_type": "code",
   "execution_count": 40,
   "metadata": {},
   "outputs": [
    {
     "name": "stdout",
     "output_type": "stream",
     "text": [
      "ironman\n",
      "natasha\n",
      "hulk\n",
      "Blackwidow\n"
     ]
    }
   ],
   "source": [
    "for hero in heroes:\n",
    "    print(hero)"
   ]
  },
  {
   "cell_type": "code",
   "execution_count": 41,
   "metadata": {},
   "outputs": [
    {
     "data": {
      "text/plain": [
       "'Blackwidow'"
      ]
     },
     "execution_count": 41,
     "metadata": {},
     "output_type": "execute_result"
    }
   ],
   "source": [
    "# Index Based\n",
    "heroes[3]"
   ]
  },
  {
   "cell_type": "code",
   "execution_count": 43,
   "metadata": {},
   "outputs": [
    {
     "name": "stdout",
     "output_type": "stream",
     "text": [
      "Total Heros 4\n"
     ]
    }
   ],
   "source": [
    "# Total Heroes\n",
    "print('Total Heros',len(heroes))"
   ]
  },
  {
   "cell_type": "code",
   "execution_count": 46,
   "metadata": {},
   "outputs": [
    {
     "data": {
      "text/plain": [
       "['ironman', 'natasha', 'hulk', 'Blackwidow', 'Spider Man', 'Spider Man']"
      ]
     },
     "execution_count": 46,
     "metadata": {},
     "output_type": "execute_result"
    }
   ],
   "source": [
    "heroes.append('Spider Man')\n",
    "heroes"
   ]
  },
  {
   "cell_type": "code",
   "execution_count": 48,
   "metadata": {},
   "outputs": [
    {
     "data": {
      "text/plain": [
       "['Batman', 'natasha', 'hulk', 'Blackwidow', 'Spider Man', 'Spider Man']"
      ]
     },
     "execution_count": 48,
     "metadata": {},
     "output_type": "execute_result"
    }
   ],
   "source": [
    "# Replacing\n",
    "heroes[0]='Batman'\n",
    "heroes"
   ]
  },
  {
   "cell_type": "code",
   "execution_count": 49,
   "metadata": {},
   "outputs": [
    {
     "data": {
      "text/plain": [
       "['Batman', 'natasha', 'Blackwidow', 'Spider Man', 'Spider Man']"
      ]
     },
     "execution_count": 49,
     "metadata": {},
     "output_type": "execute_result"
    }
   ],
   "source": [
    "heroes.remove('hulk')\n",
    "heroes"
   ]
  },
  {
   "cell_type": "code",
   "execution_count": null,
   "metadata": {},
   "outputs": [],
   "source": [
    "# Adding more elements"
   ]
  },
  {
   "cell_type": "code",
   "execution_count": 50,
   "metadata": {},
   "outputs": [],
   "source": [
    "avengers=['Thor','Captain America','Dead Pool','Hawk eye']"
   ]
  },
  {
   "cell_type": "code",
   "execution_count": 52,
   "metadata": {},
   "outputs": [
    {
     "data": {
      "text/plain": [
       "['Batman',\n",
       " 'natasha',\n",
       " 'Blackwidow',\n",
       " 'Spider Man',\n",
       " 'Spider Man',\n",
       " 'Thor',\n",
       " 'Captain America',\n",
       " 'Dead Pool',\n",
       " 'Hawk eye',\n",
       " 'Thor',\n",
       " 'Captain America',\n",
       " 'Dead Pool',\n",
       " 'Hawk eye']"
      ]
     },
     "execution_count": 52,
     "metadata": {},
     "output_type": "execute_result"
    }
   ],
   "source": [
    "heroes.extend(avengers)\n",
    "heroes"
   ]
  },
  {
   "cell_type": "code",
   "execution_count": null,
   "metadata": {},
   "outputs": [],
   "source": [
    "# Phase 2 : Intermediate"
   ]
  },
  {
   "cell_type": "code",
   "execution_count": 1,
   "metadata": {},
   "outputs": [],
   "source": [
    "# Loading the data\n",
    "pokemons= open(r\"C:\\Users\\Vijay Krishna\\Desktop\\ML\\UG\\pokemon.csv\").readlines();"
   ]
  },
  {
   "cell_type": "code",
   "execution_count": 42,
   "metadata": {},
   "outputs": [
    {
     "data": {
      "text/plain": [
       "['Pokemon,Type\\n',\n",
       " 'Bulbasaur,Grass\\n',\n",
       " 'Ivysaur,Grass\\n',\n",
       " 'Venusaur,Grass\\n',\n",
       " 'Charmander,Fire\\n',\n",
       " 'Charmeleon,Fire\\n',\n",
       " 'Charizard,Fire\\n',\n",
       " 'Squirtle,Water\\n',\n",
       " 'Wartortle,Water\\n',\n",
       " 'Blastoise,Water\\n',\n",
       " 'Caterpie,Bug\\n',\n",
       " 'Metapod,Bug\\n',\n",
       " 'Butterfree,Bug\\n',\n",
       " 'Weedle,Bug\\n',\n",
       " 'Kakuna,Bug\\n',\n",
       " 'Beedrill,Bug\\n',\n",
       " 'Pidgey,Normal\\n',\n",
       " 'Pidgeotto,Normal\\n',\n",
       " 'Pidgeot,Normal\\n',\n",
       " 'Rattata,Normal\\n',\n",
       " 'Raticate,Normal\\n',\n",
       " 'Spearow,Normal\\n',\n",
       " 'Fearow,Normal\\n',\n",
       " 'Ekans,Poison\\n',\n",
       " 'Arbok,Poison\\n',\n",
       " 'Pikachu,Electric\\n',\n",
       " 'Raichu,Electric\\n',\n",
       " 'Sandshrew,Ground\\n',\n",
       " 'Sandslash,Ground\\n',\n",
       " 'Nidoran,Poison\\n',\n",
       " 'Nidorina,Poison\\n',\n",
       " 'Nidoqueen,Poison\\n',\n",
       " 'Nidoranâ™‚,Poison\\n',\n",
       " 'Nidorino,Poison\\n',\n",
       " 'Nidoking,Poison\\n',\n",
       " 'Clefairy,Fairy\\n',\n",
       " 'Clefable,Fairy\\n',\n",
       " 'Vulpix,Fire\\n',\n",
       " 'Ninetales,Fire\\n',\n",
       " 'Jigglypuff,Normal\\n',\n",
       " 'Wigglytuff,Normal\\n',\n",
       " 'Zubat,Poison\\n',\n",
       " 'Golbat,Poison\\n',\n",
       " 'Oddish,Grass\\n',\n",
       " 'Gloom,Grass\\n',\n",
       " 'Vileplume,Grass\\n',\n",
       " 'Paras,Bug\\n',\n",
       " 'Parasect,Bug\\n',\n",
       " 'Venonat,Bug\\n',\n",
       " 'Venomoth,Bug\\n',\n",
       " 'Diglett,Ground\\n',\n",
       " 'Dugtrio,Ground\\n',\n",
       " 'Meowth,Normal\\n',\n",
       " 'Persian,Normal\\n',\n",
       " 'Psyduck,Water\\n',\n",
       " 'Golduck,Water\\n',\n",
       " 'Mankey,Fighting\\n',\n",
       " 'Primeape,Fighting\\n',\n",
       " 'Growlithe,Fire\\n',\n",
       " 'Arcanine,Fire\\n',\n",
       " 'Poliwag,Water\\n',\n",
       " 'Poliwhirl,Water\\n',\n",
       " 'Poliwrath,Water\\n',\n",
       " 'Abra,Psychic\\n',\n",
       " 'Kadabra,Psychic\\n',\n",
       " 'Alakazam,Psychic\\n',\n",
       " 'Machop,Fighting\\n',\n",
       " 'Machoke,Fighting\\n',\n",
       " 'Machamp,Fighting\\n',\n",
       " 'Bellsprout,Grass\\n',\n",
       " 'Weepinbell,Grass\\n',\n",
       " 'Victreebel,Grass\\n',\n",
       " 'Tentacool,Water\\n',\n",
       " 'Tentacruel,Water\\n',\n",
       " 'Geodude,Rock\\n',\n",
       " 'Graveler,Rock\\n',\n",
       " 'Golem,Rock\\n',\n",
       " 'Ponyta,Fire\\n',\n",
       " 'Rapidash,Fire\\n',\n",
       " 'Slowpoke,Water\\n',\n",
       " 'Slowbro,Water\\n',\n",
       " 'Magnemite,Electric\\n',\n",
       " 'Magneton,Electric\\n',\n",
       " \"Farfetch'd,Normal\\n\",\n",
       " 'Doduo,Normal\\n',\n",
       " 'Dodrio,Normal\\n',\n",
       " 'Seel,Water\\n',\n",
       " 'Dewgong,Water\\n',\n",
       " 'Grimer,Poison\\n',\n",
       " 'Muk,Poison\\n',\n",
       " 'Shellder,Water\\n',\n",
       " 'Cloyster,Water\\n',\n",
       " 'Gastly,Ghost\\n',\n",
       " 'Haunter,Ghost\\n',\n",
       " 'Gengar,Ghost\\n',\n",
       " 'Onix,Rock\\n',\n",
       " 'Drowzee,Psychic\\n',\n",
       " 'Hypno,Psychic\\n',\n",
       " 'Krabby,Water\\n',\n",
       " 'Kingler,Water\\n',\n",
       " 'Voltorb,Electric\\n',\n",
       " 'Electrode,Electric\\n',\n",
       " 'Exeggcute,Grass\\n',\n",
       " 'Exeggutor,Grass\\n',\n",
       " 'Cubone,Ground\\n',\n",
       " 'Marowak,Ground\\n',\n",
       " 'Hitmonlee,Fighting\\n',\n",
       " 'Hitmonchan,Fighting\\n',\n",
       " 'Lickitung,Normal\\n',\n",
       " 'Koffing,Poison\\n',\n",
       " 'Weezing,Poison\\n',\n",
       " 'Rhyhorn,Ground\\n',\n",
       " 'Rhydon,Ground\\n',\n",
       " 'Chansey,Normal\\n',\n",
       " 'Tangela,Grass\\n',\n",
       " 'Kangaskhan,Normal\\n',\n",
       " 'Horsea,Water\\n',\n",
       " 'Seadra,Water\\n',\n",
       " 'Goldeen,Water\\n',\n",
       " 'Seaking,Water\\n',\n",
       " 'Staryu,Water\\n',\n",
       " 'Starmie,Water\\n',\n",
       " 'Mr. Mime,Psychic\\n',\n",
       " 'Scyther,Bug\\n',\n",
       " 'Jynx,Ice\\n',\n",
       " 'Electabuzz,Electric\\n',\n",
       " 'Magmar,Fire\\n',\n",
       " 'Pinsir,Bug\\n',\n",
       " 'Tauros,Normal\\n',\n",
       " 'Magikarp,Water\\n',\n",
       " 'Gyarados,Water\\n',\n",
       " 'Lapras,Water\\n',\n",
       " 'Ditto,Normal\\n',\n",
       " 'Eevee,Normal\\n',\n",
       " 'Vaporeon,Water\\n',\n",
       " 'Jolteon,Electric\\n',\n",
       " 'Flareon,Fire\\n',\n",
       " 'Porygon,Normal\\n',\n",
       " 'Omanyte,Rock\\n',\n",
       " 'Omastar,Rock\\n',\n",
       " 'Kabuto,Rock\\n',\n",
       " 'Kabutops,Rock\\n',\n",
       " 'Aerodactyl,Rock\\n',\n",
       " 'Snorlax,Normal\\n',\n",
       " 'Articuno,Ice\\n',\n",
       " 'Zapdos,Electric\\n',\n",
       " 'Moltres,Fire\\n',\n",
       " 'Dratini,Dragon\\n',\n",
       " 'Dragonair,Dragon\\n',\n",
       " 'Dragonite,Dragon\\n',\n",
       " 'Mewtwo,Psychic\\n',\n",
       " 'Mew,Psychic\\n',\n",
       " 'Chikorita,Grass\\n',\n",
       " 'Bayleef,Grass\\n',\n",
       " 'Meganium,Grass\\n',\n",
       " 'Cyndaquil,Fire\\n',\n",
       " 'Quilava,Fire\\n',\n",
       " 'Typhlosion,Fire\\n',\n",
       " 'Totodile,Water\\n',\n",
       " 'Croconaw,Water\\n',\n",
       " 'Feraligatr,Water\\n',\n",
       " 'Sentret,Normal\\n',\n",
       " 'Furret,Normal\\n',\n",
       " 'Hoothoot,Normal\\n',\n",
       " 'Noctowl,Normal\\n',\n",
       " 'Ledyba,Bug\\n',\n",
       " 'Ledian,Bug\\n',\n",
       " 'Spinarak,Bug\\n',\n",
       " 'Ariados,Bug\\n',\n",
       " 'Crobat,Poison\\n',\n",
       " 'Chinchou,Water\\n',\n",
       " 'Lanturn,Water\\n',\n",
       " 'Pichu,Electric\\n',\n",
       " 'Cleffa,Fairy\\n',\n",
       " 'Igglybuff,Normal\\n',\n",
       " 'Togepi,Fairy\\n',\n",
       " 'Togetic,Fairy\\n',\n",
       " 'Natu,Psychic\\n',\n",
       " 'Xatu,Psychic\\n',\n",
       " 'Mareep,Electric\\n',\n",
       " 'Flaaffy,Electric\\n',\n",
       " 'Ampharos,Electric\\n',\n",
       " 'Bellossom,Grass\\n',\n",
       " 'Marill,Water\\n',\n",
       " 'Azumarill,Water\\n',\n",
       " 'Sudowoodo,Rock\\n',\n",
       " 'Politoed,Water\\n',\n",
       " 'Hoppip,Grass\\n',\n",
       " 'Skiploom,Grass\\n',\n",
       " 'Jumpluff,Grass\\n',\n",
       " 'Aipom,Normal\\n',\n",
       " 'Sunkern,Grass\\n',\n",
       " 'Sunflora,Grass\\n',\n",
       " 'Yanma,Bug\\n',\n",
       " 'Wooper,Water\\n',\n",
       " 'Quagsire,Water\\n',\n",
       " 'Espeon,Psychic\\n',\n",
       " 'Umbreon,Dark\\n',\n",
       " 'Murkrow,Dark\\n',\n",
       " 'Slowking,Water\\n',\n",
       " 'Misdreavus,Ghost\\n',\n",
       " 'Unown,Psychic\\n',\n",
       " 'Wobbuffet,Psychic\\n',\n",
       " 'Girafarig,Normal\\n',\n",
       " 'Pineco,Bug\\n',\n",
       " 'Forretress,Bug\\n',\n",
       " 'Dunsparce,Normal\\n',\n",
       " 'Gligar,Ground\\n',\n",
       " 'Steelix,Steel\\n',\n",
       " 'Snubbull,Fairy\\n',\n",
       " 'Granbull,Fairy\\n',\n",
       " 'Qwilfish,Water\\n',\n",
       " 'Scizor,Bug\\n',\n",
       " 'Shuckle,Bug\\n',\n",
       " 'Heracross,Bug\\n',\n",
       " 'Sneasel,Dark\\n',\n",
       " 'Teddiursa,Normal\\n',\n",
       " 'Ursaring,Normal\\n',\n",
       " 'Slugma,Fire\\n',\n",
       " 'Magcargo,Fire\\n',\n",
       " 'Swinub,Ice\\n',\n",
       " 'Piloswine,Ice\\n',\n",
       " 'Corsola,Water\\n',\n",
       " 'Remoraid,Water\\n',\n",
       " 'Octillery,Water\\n',\n",
       " 'Delibird,Ice\\n',\n",
       " 'Mantine,Water\\n',\n",
       " 'Skarmory,Steel\\n',\n",
       " 'Houndour,Dark\\n',\n",
       " 'Houndoom,Dark\\n',\n",
       " 'Kingdra,Water\\n',\n",
       " 'Phanpy,Ground\\n',\n",
       " 'Donphan,Ground\\n',\n",
       " 'Porygon2,Normal\\n',\n",
       " 'Stantler,Normal\\n',\n",
       " 'Smeargle,Normal\\n',\n",
       " 'Tyrogue,Fighting\\n',\n",
       " 'Hitmontop,Fighting\\n',\n",
       " 'Smoochum,Ice\\n',\n",
       " 'Elekid,Electric\\n',\n",
       " 'Magby,Fire\\n',\n",
       " 'Miltank,Normal\\n',\n",
       " 'Blissey,Normal\\n',\n",
       " 'Raikou,Electric\\n',\n",
       " 'Entei,Fire\\n',\n",
       " 'Suicune,Water\\n',\n",
       " 'Larvitar,Rock\\n',\n",
       " 'Pupitar,Rock\\n',\n",
       " 'Tyranitar,Rock\\n',\n",
       " 'Lugia,Psychic\\n',\n",
       " 'Ho-oh,Fire\\n',\n",
       " 'Celebi,Psychic\\n',\n",
       " 'Treecko,Grass\\n',\n",
       " 'Grovyle,Grass\\n',\n",
       " 'Sceptile,Grass\\n',\n",
       " 'Torchic,Fire\\n',\n",
       " 'Combusken,Fire\\n',\n",
       " 'Blaziken,Fire\\n',\n",
       " 'Mudkip,Water\\n',\n",
       " 'Marshtomp,Water\\n',\n",
       " 'Swampert,Water\\n',\n",
       " 'Poochyena,Dark\\n',\n",
       " 'Mightyena,Dark\\n',\n",
       " 'Zigzagoon,Normal\\n',\n",
       " 'Linoone,Normal\\n',\n",
       " 'Wurmple,Bug\\n',\n",
       " 'Silcoon,Bug\\n',\n",
       " 'Beautifly,Bug\\n',\n",
       " 'Cascoon,Bug\\n',\n",
       " 'Dustox,Bug\\n',\n",
       " 'Lotad,Water\\n',\n",
       " 'Lombre,Water\\n',\n",
       " 'Ludicolo,Water\\n',\n",
       " 'Seedot,Grass\\n',\n",
       " 'Nuzleaf,Grass\\n',\n",
       " 'Shiftry,Grass\\n',\n",
       " 'Taillow,Normal\\n',\n",
       " 'Swellow,Normal\\n',\n",
       " 'Wingull,Water\\n',\n",
       " 'Pelipper,Water\\n',\n",
       " 'Ralts,Psychic\\n',\n",
       " 'Kirlia,Psychic\\n',\n",
       " 'Gardevoir,Psychic\\n',\n",
       " 'Surskit,Bug\\n',\n",
       " 'Masquerain,Bug\\n',\n",
       " 'Shroomish,Grass\\n',\n",
       " 'Breloom,Grass\\n',\n",
       " 'Slakoth,Normal\\n',\n",
       " 'Vigoroth,Normal\\n',\n",
       " 'Slaking,Normal\\n',\n",
       " 'Nincada,Bug\\n',\n",
       " 'Ninjask,Bug\\n',\n",
       " 'Shedinja,Bug\\n',\n",
       " 'Whismur,Normal\\n',\n",
       " 'Loudred,Normal\\n',\n",
       " 'Exploud,Normal\\n',\n",
       " 'Makuhita,Fighting\\n',\n",
       " 'Hariyama,Fighting\\n',\n",
       " 'Azurill,Normal\\n',\n",
       " 'Nosepass,Rock\\n',\n",
       " 'Skitty,Normal\\n',\n",
       " 'Delcatty,Normal\\n',\n",
       " 'Sableye,Dark\\n',\n",
       " 'Mawile,Steel\\n',\n",
       " 'Aron,Steel\\n',\n",
       " 'Lairon,Steel\\n',\n",
       " 'Aggron,Steel\\n',\n",
       " 'Meditite,Fighting\\n',\n",
       " 'Medicham,Fighting\\n',\n",
       " 'Electrike,Electric\\n',\n",
       " 'Manectric,Electric\\n',\n",
       " 'Plusle,Electric\\n',\n",
       " 'Minun,Electric\\n',\n",
       " 'Volbeat,Bug\\n',\n",
       " 'Illumise,Bug\\n',\n",
       " 'Roselia,Grass\\n',\n",
       " 'Gulpin,Poison\\n',\n",
       " 'Swalot,Poison\\n',\n",
       " 'Carvanha,Water\\n',\n",
       " 'Sharpedo,Water\\n',\n",
       " 'Wailmer,Water\\n',\n",
       " 'Wailord,Water\\n',\n",
       " 'Numel,Fire\\n',\n",
       " 'Camerupt,Fire\\n',\n",
       " 'Torkoal,Fire\\n',\n",
       " 'Spoink,Psychic\\n',\n",
       " 'Grumpig,Psychic\\n',\n",
       " 'Spinda,Normal\\n',\n",
       " 'Trapinch,Ground\\n',\n",
       " 'Vibrava,Ground\\n',\n",
       " 'Flygon,Ground\\n',\n",
       " 'Cacnea,Grass\\n',\n",
       " 'Cacturne,Grass\\n',\n",
       " 'Swablu,Normal\\n',\n",
       " 'Altaria,Dragon\\n',\n",
       " 'Zangoose,Normal\\n',\n",
       " 'Seviper,Poison\\n',\n",
       " 'Lunatone,Rock\\n',\n",
       " 'Solrock,Rock\\n',\n",
       " 'Barboach,Water\\n',\n",
       " 'Whiscash,Water\\n',\n",
       " 'Corphish,Water\\n',\n",
       " 'Crawdaunt,Water\\n',\n",
       " 'Baltoy,Ground\\n',\n",
       " 'Claydol,Ground\\n',\n",
       " 'Lileep,Rock\\n',\n",
       " 'Cradily,Rock\\n',\n",
       " 'Anorith,Rock\\n',\n",
       " 'Armaldo,Rock\\n',\n",
       " 'Feebas,Water\\n',\n",
       " 'Milotic,Water\\n',\n",
       " 'Castform,Normal\\n',\n",
       " 'Kecleon,Normal\\n',\n",
       " 'Shuppet,Ghost\\n',\n",
       " 'Banette,Ghost\\n',\n",
       " 'Duskull,Ghost\\n',\n",
       " 'Dusclops,Ghost\\n',\n",
       " 'Tropius,Grass\\n',\n",
       " 'Chimecho,Psychic\\n',\n",
       " 'Absol,Dark\\n',\n",
       " 'Wynaut,Psychic\\n',\n",
       " 'Snorunt,Ice\\n',\n",
       " 'Glalie,Ice\\n',\n",
       " 'Spheal,Ice\\n',\n",
       " 'Sealeo,Ice\\n',\n",
       " 'Walrein,Ice\\n',\n",
       " 'Clamperl,Water\\n',\n",
       " 'Huntail,Water\\n',\n",
       " 'Gorebyss,Water\\n',\n",
       " 'Relicanth,Water\\n',\n",
       " 'Luvdisc,Water\\n',\n",
       " 'Bagon,Dragon\\n',\n",
       " 'Shelgon,Dragon\\n',\n",
       " 'Salamence,Dragon\\n',\n",
       " 'Beldum,Steel\\n',\n",
       " 'Metang,Steel\\n',\n",
       " 'Metagross,Steel\\n',\n",
       " 'Regirock,Rock\\n',\n",
       " 'Regice,Ice\\n',\n",
       " 'Registeel,Steel\\n',\n",
       " 'Latias,Dragon\\n',\n",
       " 'Latios,Dragon\\n',\n",
       " 'Kyogre,Water\\n',\n",
       " 'Groudon,Ground\\n',\n",
       " 'Rayquaza,Dragon\\n',\n",
       " 'Jirachi,Steel\\n',\n",
       " 'Deoxys,Psychic\\n',\n",
       " 'Turtwig,Grass\\n',\n",
       " 'Grotle,Grass\\n',\n",
       " 'Torterra,Grass\\n',\n",
       " 'Chimchar,Fire\\n',\n",
       " 'Monferno,Fire\\n',\n",
       " 'Infernape,Fire\\n',\n",
       " 'Piplup,Water\\n',\n",
       " 'Prinplup,Water\\n',\n",
       " 'Empoleon,Water\\n',\n",
       " 'Starly,Normal\\n',\n",
       " 'Staravia,Normal\\n',\n",
       " 'Staraptor,Normal\\n',\n",
       " 'Bidoof,Normal\\n',\n",
       " 'Bibarel,Normal\\n',\n",
       " 'Kricketot,Bug\\n',\n",
       " 'Kricketune,Bug\\n',\n",
       " 'Shinx,Electric\\n',\n",
       " 'Luxio,Electric\\n',\n",
       " 'Luxray,Electric\\n',\n",
       " 'Budew,Grass\\n',\n",
       " 'Roserade,Grass\\n',\n",
       " 'Cranidos,Rock\\n',\n",
       " 'Rampardos,Rock\\n',\n",
       " 'Shieldon,Rock\\n',\n",
       " 'Bastiodon,Rock\\n',\n",
       " 'Burmy,Bug\\n',\n",
       " 'Wormadam,Bug\\n',\n",
       " 'Mothim,Bug\\n',\n",
       " 'Combee,Bug\\n',\n",
       " 'Vespiquen,Bug\\n',\n",
       " 'Pachirisu,Electric\\n',\n",
       " 'Buizel,Water\\n',\n",
       " 'Floatzel,Water\\n',\n",
       " 'Cherubi,Grass\\n',\n",
       " 'Cherrim,Grass\\n',\n",
       " 'Shellos,Water\\n',\n",
       " 'Gastrodon,Water\\n',\n",
       " 'Ambipom,Normal\\n',\n",
       " 'Drifloon,Ghost\\n',\n",
       " 'Drifblim,Ghost\\n',\n",
       " 'Buneary,Normal\\n',\n",
       " 'Lopunny,Normal\\n',\n",
       " 'Mismagius,Ghost\\n',\n",
       " 'Honchkrow,Dark\\n',\n",
       " 'Glameow,Normal\\n',\n",
       " 'Purugly,Normal\\n',\n",
       " 'Chingling,Psychic\\n',\n",
       " 'Stunky,Poison\\n',\n",
       " 'Skuntank,Poison\\n',\n",
       " 'Bronzor,Steel\\n',\n",
       " 'Bronzong,Steel\\n',\n",
       " 'Bonsly,Rock\\n',\n",
       " 'Mime Jr.,Psychic\\n',\n",
       " 'Happiny,Normal\\n',\n",
       " 'Chatot,Normal\\n',\n",
       " 'Spiritomb,Ghost\\n',\n",
       " 'Gible,Dragon\\n',\n",
       " 'Gabite,Dragon\\n',\n",
       " 'Garchomp,Dragon\\n',\n",
       " 'Munchlax,Normal\\n',\n",
       " 'Riolu,Fighting\\n',\n",
       " 'Lucario,Fighting\\n',\n",
       " 'Hippopotas,Ground\\n',\n",
       " 'Hippowdon,Ground\\n',\n",
       " 'Skorupi,Poison\\n',\n",
       " 'Drapion,Poison\\n',\n",
       " 'Croagunk,Poison\\n',\n",
       " 'Toxicroak,Poison\\n',\n",
       " 'Carnivine,Grass\\n',\n",
       " 'Finneon,Water\\n',\n",
       " 'Lumineon,Water\\n',\n",
       " 'Mantyke,Water\\n',\n",
       " 'Snover,Grass\\n',\n",
       " 'Abomasnow,Grass\\n',\n",
       " 'Weavile,Dark\\n',\n",
       " 'Magnezone,Electric\\n',\n",
       " 'Lickilicky,Normal\\n',\n",
       " 'Rhyperior,Ground\\n',\n",
       " 'Tangrowth,Grass\\n',\n",
       " 'Electivire,Electric\\n',\n",
       " 'Magmortar,Fire\\n',\n",
       " 'Togekiss,Fairy\\n',\n",
       " 'Yanmega,Bug\\n',\n",
       " 'Leafeon,Grass\\n',\n",
       " 'Glaceon,Ice\\n',\n",
       " 'Gliscor,Ground\\n',\n",
       " 'Mamoswine,Ice\\n',\n",
       " 'Porygon-Z,Normal\\n',\n",
       " 'Gallade,Psychic\\n',\n",
       " 'Probopass,Rock\\n',\n",
       " 'Dusknoir,Ghost\\n',\n",
       " 'Froslass,Ice\\n',\n",
       " 'Rotom,Electric\\n',\n",
       " 'Uxie,Psychic\\n',\n",
       " 'Mesprit,Psychic\\n',\n",
       " 'Azelf,Psychic\\n',\n",
       " 'Dialga,Steel\\n',\n",
       " 'Palkia,Water\\n',\n",
       " 'Heatran,Fire\\n',\n",
       " 'Regigigas,Normal\\n',\n",
       " 'Giratina,Ghost\\n',\n",
       " 'Cresselia,Psychic\\n',\n",
       " 'Phione,Water\\n',\n",
       " 'Manaphy,Water\\n',\n",
       " 'Darkrai,Dark\\n',\n",
       " 'Shaymin,Grass\\n',\n",
       " 'Arceus,Normal\\n',\n",
       " 'Victini,Psychic\\n',\n",
       " 'Snivy,Grass\\n',\n",
       " 'Servine,Grass\\n',\n",
       " 'Serperior,Grass\\n',\n",
       " 'Tepig,Fire\\n',\n",
       " 'Pignite,Fire\\n',\n",
       " 'Emboar,Fire\\n',\n",
       " 'Oshawott,Water\\n',\n",
       " 'Dewott,Water\\n',\n",
       " 'Samurott,Water\\n',\n",
       " 'Patrat,Normal\\n',\n",
       " 'Watchog,Normal\\n',\n",
       " 'Lillipup,Normal\\n',\n",
       " 'Herdier,Normal\\n',\n",
       " 'Stoutland,Normal\\n',\n",
       " 'Purrloin,Dark\\n',\n",
       " 'Liepard,Dark\\n',\n",
       " 'Pansage,Grass\\n',\n",
       " 'Simisage,Grass\\n',\n",
       " 'Pansear,Fire\\n',\n",
       " 'Simisear,Fire\\n',\n",
       " 'Panpour,Water\\n',\n",
       " 'Simipour,Water\\n',\n",
       " 'Munna,Psychic\\n',\n",
       " 'Musharna,Psychic\\n',\n",
       " 'Pidove,Normal\\n',\n",
       " 'Tranquill,Normal\\n',\n",
       " 'Unfezant,Normal\\n',\n",
       " 'Blitzle,Electric\\n',\n",
       " 'Zebstrika,Electric\\n',\n",
       " 'Roggenrola,Rock\\n',\n",
       " 'Boldore,Rock\\n',\n",
       " 'Gigalith,Rock\\n',\n",
       " 'Woobat,Psychic\\n',\n",
       " 'Swoobat,Psychic\\n',\n",
       " 'Drilbur,Ground\\n',\n",
       " 'Excadrill,Ground\\n',\n",
       " 'Audino,Normal\\n',\n",
       " 'Timburr,Fighting\\n',\n",
       " 'Gurdurr,Fighting\\n',\n",
       " 'Conkeldurr,Fighting\\n',\n",
       " 'Tympole,Water\\n',\n",
       " 'Palpitoad,Water\\n',\n",
       " 'Seismitoad,Water\\n',\n",
       " 'Throh,Fighting\\n',\n",
       " 'Sawk,Fighting\\n',\n",
       " 'Sewaddle,Bug\\n',\n",
       " 'Swadloon,Bug\\n',\n",
       " 'Leavanny,Bug\\n',\n",
       " 'Venipede,Bug\\n',\n",
       " 'Whirlipede,Bug\\n',\n",
       " 'Scolipede,Bug\\n',\n",
       " 'Cottonee,Grass\\n',\n",
       " 'Whimsicott,Grass\\n',\n",
       " 'Petilil,Grass\\n',\n",
       " 'Lilligant,Grass\\n',\n",
       " 'Basculin,Water\\n',\n",
       " 'Sandile,Ground\\n',\n",
       " 'Krokorok,Ground\\n',\n",
       " 'Krookodile,Ground\\n',\n",
       " 'Darumaka,Fire\\n',\n",
       " 'Darmanitan,Fire\\n',\n",
       " 'Maractus,Grass\\n',\n",
       " 'Dwebble,Bug\\n',\n",
       " 'Crustle,Bug\\n',\n",
       " 'Scraggy,Dark\\n',\n",
       " 'Scrafty,Dark\\n',\n",
       " 'Sigilyph,Psychic\\n',\n",
       " 'Yamask,Ghost\\n',\n",
       " 'Cofagrigus,Ghost\\n',\n",
       " 'Tirtouga,Water\\n',\n",
       " 'Carracosta,Water\\n',\n",
       " 'Archen,Rock\\n',\n",
       " 'Archeops,Rock\\n',\n",
       " 'Trubbish,Poison\\n',\n",
       " 'Garbodor,Poison\\n',\n",
       " 'Zorua,Dark\\n',\n",
       " 'Zoroark,Dark\\n',\n",
       " 'Minccino,Normal\\n',\n",
       " 'Cinccino,Normal\\n',\n",
       " 'Gothita,Psychic\\n',\n",
       " 'Gothorita,Psychic\\n',\n",
       " 'Gothitelle,Psychic\\n',\n",
       " 'Solosis,Psychic\\n',\n",
       " 'Duosion,Psychic\\n',\n",
       " 'Reuniclus,Psychic\\n',\n",
       " 'Ducklett,Water\\n',\n",
       " 'Swanna,Water\\n',\n",
       " 'Vanillite,Ice\\n',\n",
       " 'Vanillish,Ice\\n',\n",
       " 'Vanilluxe,Ice\\n',\n",
       " 'Deerling,Normal\\n',\n",
       " 'Sawsbuck,Normal\\n',\n",
       " 'Emolga,Electric\\n',\n",
       " 'Karrablast,Bug\\n',\n",
       " 'Escavalier,Bug\\n',\n",
       " 'Foongus,Grass\\n',\n",
       " 'Amoonguss,Grass\\n',\n",
       " 'Frillish,Water\\n',\n",
       " 'Jellicent,Water\\n',\n",
       " 'Alomomola,Water\\n',\n",
       " 'Joltik,Bug\\n',\n",
       " 'Galvantula,Bug\\n',\n",
       " 'Ferroseed,Grass\\n',\n",
       " 'Ferrothorn,Grass\\n',\n",
       " 'Klink,Steel\\n',\n",
       " 'Klang,Steel\\n',\n",
       " 'Klinklang,Steel\\n',\n",
       " 'Tynamo,Electric\\n',\n",
       " 'Eelektrik,Electric\\n',\n",
       " 'Eelektross,Electric\\n',\n",
       " 'Elgyem,Psychic\\n',\n",
       " 'Beheeyem,Psychic\\n',\n",
       " 'Litwick,Ghost\\n',\n",
       " 'Lampent,Ghost\\n',\n",
       " 'Chandelure,Ghost\\n',\n",
       " 'Axew,Dragon\\n',\n",
       " 'Fraxure,Dragon\\n',\n",
       " 'Haxorus,Dragon\\n',\n",
       " 'Cubchoo,Ice\\n',\n",
       " 'Beartic,Ice\\n',\n",
       " 'Cryogonal,Ice\\n',\n",
       " 'Shelmet,Bug\\n',\n",
       " 'Accelgor,Bug\\n',\n",
       " 'Stunfisk,Ground\\n',\n",
       " 'Mienfoo,Fighting\\n',\n",
       " 'Mienshao,Fighting\\n',\n",
       " 'Druddigon,Dragon\\n',\n",
       " 'Golett,Ground\\n',\n",
       " 'Golurk,Ground\\n',\n",
       " 'Pawniard,Dark\\n',\n",
       " 'Bisharp,Dark\\n',\n",
       " 'Bouffalant,Normal\\n',\n",
       " 'Rufflet,Normal\\n',\n",
       " 'Braviary,Normal\\n',\n",
       " 'Vullaby,Dark\\n',\n",
       " 'Mandibuzz,Dark\\n',\n",
       " 'Heatmor,Fire\\n',\n",
       " 'Durant,Bug\\n',\n",
       " 'Deino,Dark\\n',\n",
       " 'Zweilous,Dark\\n',\n",
       " 'Hydreigon,Dark\\n',\n",
       " 'Larvesta,Bug\\n',\n",
       " 'Volcarona,Bug\\n',\n",
       " 'Cobalion,Steel\\n',\n",
       " 'Terrakion,Rock\\n',\n",
       " 'Virizion,Grass\\n',\n",
       " 'Tornadus,Flying\\n',\n",
       " 'Thundurus,Electric\\n',\n",
       " 'Reshiram,Dragon\\n',\n",
       " 'Zekrom,Dragon\\n',\n",
       " 'Landorus,Ground\\n',\n",
       " 'Kyurem,Dragon\\n',\n",
       " 'Keldeo,Water\\n',\n",
       " 'Meloetta,Normal\\n',\n",
       " 'Genesect,Bug\\n',\n",
       " 'Chespin,Grass\\n',\n",
       " 'Quilladin,Grass\\n',\n",
       " 'Chesnaught,Grass\\n',\n",
       " 'Fennekin,Fire\\n',\n",
       " 'Braixen,Fire\\n',\n",
       " 'Delphox,Fire\\n',\n",
       " 'Froakie,Water\\n',\n",
       " 'Frogadier,Water\\n',\n",
       " 'Greninja,Water\\n',\n",
       " 'Bunnelby,Normal\\n',\n",
       " 'Diggersby,Normal\\n',\n",
       " 'Fletchling,Normal\\n',\n",
       " 'Fletchinder,Fire\\n',\n",
       " 'Talonflame,Fire\\n',\n",
       " 'Scatterbug,Bug\\n',\n",
       " 'Spewpa,Bug\\n',\n",
       " 'Vivillon,Bug\\n',\n",
       " 'Litleo,Fire\\n',\n",
       " 'Pyroar,Fire\\n',\n",
       " 'FlabÃ©bÃ©,Fairy\\n',\n",
       " 'Floette,Fairy\\n',\n",
       " 'Florges,Fairy\\n',\n",
       " 'Skiddo,Grass\\n',\n",
       " 'Gogoat,Grass\\n',\n",
       " 'Pancham,Fighting\\n',\n",
       " 'Pangoro,Fighting\\n',\n",
       " 'Furfrou,Normal\\n',\n",
       " 'Espurr,Psychic\\n',\n",
       " 'Meowstic,Psychic\\n',\n",
       " 'Honedge,Steel\\n',\n",
       " 'Doublade,Steel\\n',\n",
       " 'Aegislash,Steel\\n',\n",
       " 'Spritzee,Fairy\\n',\n",
       " 'Aromatisse,Fairy\\n',\n",
       " 'Swirlix,Fairy\\n',\n",
       " 'Slurpuff,Fairy\\n',\n",
       " 'Inkay,Dark\\n',\n",
       " 'Malamar,Dark\\n',\n",
       " 'Binacle,Rock\\n',\n",
       " 'Barbaracle,Rock\\n',\n",
       " 'Skrelp,Poison\\n',\n",
       " 'Dragalge,Poison\\n',\n",
       " 'Clauncher,Water\\n',\n",
       " 'Clawitzer,Water\\n',\n",
       " 'Helioptile,Electric\\n',\n",
       " 'Heliolisk,Electric\\n',\n",
       " 'Tyrunt,Rock\\n',\n",
       " 'Tyrantrum,Rock\\n',\n",
       " 'Amaura,Rock\\n',\n",
       " 'Aurorus,Rock\\n',\n",
       " 'Sylveon,Fairy\\n',\n",
       " 'Hawlucha,Fighting\\n',\n",
       " 'Dedenne,Electric\\n',\n",
       " 'Carbink,Rock\\n',\n",
       " 'Goomy,Dragon\\n',\n",
       " 'Sliggoo,Dragon\\n',\n",
       " 'Goodra,Dragon\\n',\n",
       " 'Klefki,Steel\\n',\n",
       " 'Phantump,Ghost\\n',\n",
       " 'Trevenant,Ghost\\n',\n",
       " 'Pumpkaboo,Ghost\\n',\n",
       " 'Gourgeist,Ghost\\n',\n",
       " 'Bergmite,Ice\\n',\n",
       " 'Avalugg,Ice\\n',\n",
       " 'Noibat,Flying\\n',\n",
       " 'Noivern,Flying\\n',\n",
       " 'Xerneas,Fairy\\n',\n",
       " 'Yveltal,Dark\\n',\n",
       " 'Zygarde,Dragon\\n',\n",
       " 'Diancie,Rock\\n',\n",
       " 'Hoopa,Psychic\\n',\n",
       " 'Volcanion,Fire\\n']"
      ]
     },
     "execution_count": 42,
     "metadata": {},
     "output_type": "execute_result"
    }
   ],
   "source": []
  },
  {
   "cell_type": "code",
   "execution_count": 2,
   "metadata": {},
   "outputs": [
    {
     "data": {
      "text/plain": [
       "722"
      ]
     },
     "execution_count": 2,
     "metadata": {},
     "output_type": "execute_result"
    }
   ],
   "source": [
    "len(pokemons)"
   ]
  },
  {
   "cell_type": "code",
   "execution_count": 3,
   "metadata": {},
   "outputs": [],
   "source": [
    "#Challenge is to Extract information out of above dataset\n",
    "# bring the total count of Each pokemon Type\n",
    "# Expected Output:\n",
    "# Fire: 3939\n",
    "# Bug: 1828\n",
    "# Water: 3939\n",
    "#...\n",
    "#Accepted!"
   ]
  },
  {
   "cell_type": "code",
   "execution_count": 165,
   "metadata": {},
   "outputs": [
    {
     "name": "stdout",
     "output_type": "stream",
     "text": [
      " Bug : 63\n",
      " Water : 105\n",
      " Fairy : 17\n",
      " Electric : 36\n",
      " Ground : 30\n",
      " Psychic : 47\n",
      " Fighting : 25\n",
      " Normal : 93\n",
      " Ghost : 23\n",
      " Flying : 3\n",
      " Steel : 22\n",
      " Grass : 66\n",
      " Poison : 28\n",
      " Ice : 23\n",
      " Dark : 28\n",
      " Dragon : 24\n",
      " Rock : 41\n",
      " Fire : 47\n"
     ]
    }
   ],
   "source": [
    "Type=[]\n",
    "\n",
    "for i in range(1,len(pokemons)):\n",
    "    Type.append(pokemons[i].split(',')[1].strip('\\n'))\n",
    "for types in (set(Type)):\n",
    "    print('',types,':',Type.count(types))\n"
   ]
  },
  {
   "cell_type": "code",
   "execution_count": 160,
   "metadata": {},
   "outputs": [
    {
     "name": "stdout",
     "output_type": "stream",
     "text": [
      " Bug : 63\n",
      " Water : 105\n",
      " Fairy : 17\n",
      " Electric : 36\n",
      " Ground : 30\n",
      " Psychic : 47\n",
      " Fighting : 25\n",
      " Normal : 93\n",
      " Ghost : 23\n",
      " Flying : 3\n",
      " Steel : 22\n",
      " Grass : 66\n",
      " Poison : 28\n",
      " Ice : 23\n",
      " Dark : 28\n",
      " Dragon : 24\n",
      " Rock : 41\n",
      " Fire : 47\n"
     ]
    }
   ],
   "source": [
    "for typ in (set(Type)):\n",
    "    print('',typ,':',Type.count(typ))\n"
   ]
  },
  {
   "cell_type": "code",
   "execution_count": null,
   "metadata": {},
   "outputs": [],
   "source": [
    "#data=[]\n",
    "#Names=[]\n",
    "Type=[]\n",
    "\n",
    "for i in range(1,len(pokemons)):\n",
    "    Type.append(pokemons[i].split(',')[1].strip('\\n'))\n",
    "    #Type.append(data[i-1][1].strip('\\n'))\n",
    "for types in (set(Type)):\n",
    "    print('',types,':',Type.count(types))\n"
   ]
  },
  {
   "cell_type": "code",
   "execution_count": null,
   "metadata": {},
   "outputs": [],
   "source": [
    "def CountFrequency(my_list): \n",
    "  \n",
    "    # Creating an empty dictionary  \n",
    "    freq = {} \n",
    "    for item in my_list: \n",
    "        if (item in freq): \n",
    "            freq[item] += 1\n",
    "        else: \n",
    "            freq[item] = 1\n",
    "  \n",
    "    for key, value in freq.items(): \n",
    "        print (key,':', value)\n"
   ]
  },
  {
   "cell_type": "code",
   "execution_count": null,
   "metadata": {},
   "outputs": [],
   "source": []
  },
  {
   "cell_type": "markdown",
   "metadata": {},
   "source": [
    "## (Tuple) - Immutable\n",
    "#### Collection  doesnt allow duplicate"
   ]
  },
  {
   "cell_type": "code",
   "execution_count": 3,
   "metadata": {},
   "outputs": [],
   "source": [
    "t=(1,2,3,4,5)\n"
   ]
  },
  {
   "cell_type": "code",
   "execution_count": null,
   "metadata": {},
   "outputs": [],
   "source": [
    "# Phase 1 : Basic Examples"
   ]
  },
  {
   "cell_type": "code",
   "execution_count": 6,
   "metadata": {},
   "outputs": [
    {
     "ename": "TypeError",
     "evalue": "'tuple' object does not support item assignment",
     "output_type": "error",
     "traceback": [
      "\u001b[1;31m---------------------------------------------------------------------------\u001b[0m",
      "\u001b[1;31mTypeError\u001b[0m                                 Traceback (most recent call last)",
      "\u001b[1;32m<ipython-input-6-03ac23426653>\u001b[0m in \u001b[0;36m<module>\u001b[1;34m\u001b[0m\n\u001b[1;32m----> 1\u001b[1;33m \u001b[0mt\u001b[0m\u001b[1;33m[\u001b[0m\u001b[1;36m0\u001b[0m\u001b[1;33m]\u001b[0m\u001b[1;33m=\u001b[0m\u001b[1;36m10\u001b[0m\u001b[1;33m\u001b[0m\u001b[1;33m\u001b[0m\u001b[0m\n\u001b[0m",
      "\u001b[1;31mTypeError\u001b[0m: 'tuple' object does not support item assignment"
     ]
    }
   ],
   "source": [
    "t[0]=10"
   ]
  },
  {
   "cell_type": "markdown",
   "metadata": {},
   "source": [
    "## {Sets}\n",
    "#### Collection of unique values"
   ]
  },
  {
   "cell_type": "code",
   "execution_count": 36,
   "metadata": {},
   "outputs": [],
   "source": [
    "# Phase 1 : Basic Examples"
   ]
  },
  {
   "cell_type": "code",
   "execution_count": 8,
   "metadata": {},
   "outputs": [],
   "source": [
    "S = [1,23,45,78,90,10,15,23,45,90,100,78,1,23,45]"
   ]
  },
  {
   "cell_type": "code",
   "execution_count": 10,
   "metadata": {},
   "outputs": [
    {
     "data": {
      "text/plain": [
       "{1, 10, 15, 23, 45, 78, 90, 100}"
      ]
     },
     "execution_count": 10,
     "metadata": {},
     "output_type": "execute_result"
    }
   ],
   "source": [
    "set(S)"
   ]
  },
  {
   "cell_type": "markdown",
   "metadata": {},
   "source": [
    "## {Dictionery}\n",
    "#### Collection of key value pair"
   ]
  },
  {
   "cell_type": "code",
   "execution_count": 35,
   "metadata": {},
   "outputs": [],
   "source": [
    "# Phase 1 : Basic Examples"
   ]
  },
  {
   "cell_type": "code",
   "execution_count": null,
   "metadata": {},
   "outputs": [],
   "source": [
    "dict={\"en\":'English','hi'}"
   ]
  },
  {
   "cell_type": "code",
   "execution_count": null,
   "metadata": {},
   "outputs": [],
   "source": [
    "# Creating Dictionary "
   ]
  },
  {
   "cell_type": "code",
   "execution_count": 174,
   "metadata": {},
   "outputs": [],
   "source": [
    "fruits=['apple','mango','cherry']"
   ]
  },
  {
   "cell_type": "code",
   "execution_count": 176,
   "metadata": {},
   "outputs": [],
   "source": [
    "fruitdict={}\n",
    "for f in enumerate(fruits):\n",
    "    fruitdict[f[0]]=f[1]"
   ]
  },
  {
   "cell_type": "code",
   "execution_count": 177,
   "metadata": {},
   "outputs": [
    {
     "data": {
      "text/plain": [
       "{0: 'apple', 1: 'mango', 2: 'cherry'}"
      ]
     },
     "execution_count": 177,
     "metadata": {},
     "output_type": "execute_result"
    }
   ],
   "source": [
    "fruitdict"
   ]
  },
  {
   "cell_type": "code",
   "execution_count": null,
   "metadata": {},
   "outputs": [],
   "source": []
  },
  {
   "cell_type": "code",
   "execution_count": 2,
   "metadata": {},
   "outputs": [],
   "source": [
    "people=['Ram Kumar','Pravin Singh','Anil Gupta','Divya Prakash']\n",
    "# expected output:\n",
    "# Kumar.R\n",
    "# Singh.P\n",
    "# Gupta.A\n",
    "# Prakash.D\n",
    "# format is lastname.firstname_firstCharacter"
   ]
  },
  {
   "cell_type": "code",
   "execution_count": 139,
   "metadata": {},
   "outputs": [],
   "source": [
    "lastname=[]\n",
    "firstname=[]\n",
    "Names=[]\n",
    "for i in range(len(people)):\n",
    "    l = people[i].split(' ')\n",
    "    lastname.append(l[0])\n",
    "    firstname.append(l[1])\n",
    "    Names.append(firstname[i]+'.'+lastname[i][0])\n",
    "    "
   ]
  },
  {
   "cell_type": "code",
   "execution_count": 141,
   "metadata": {},
   "outputs": [
    {
     "data": {
      "text/plain": [
       "['Kumar.R', 'Singh.P', 'Gupta.A', 'Prakash.D']"
      ]
     },
     "execution_count": 141,
     "metadata": {},
     "output_type": "execute_result"
    }
   ],
   "source": [
    "Names"
   ]
  },
  {
   "cell_type": "code",
   "execution_count": 4,
   "metadata": {},
   "outputs": [
    {
     "data": {
      "text/plain": [
       "['Kumar.R', 'Singh.P', 'Gupta.A', 'Prakash.D']"
      ]
     },
     "execution_count": 4,
     "metadata": {},
     "output_type": "execute_result"
    }
   ],
   "source": [
    "[name.split(' ')[1]+'.'+name.split(' ')[0][0] for name in people]"
   ]
  },
  {
   "cell_type": "code",
   "execution_count": 150,
   "metadata": {},
   "outputs": [
    {
     "data": {
      "text/plain": [
       "5"
      ]
     },
     "execution_count": 150,
     "metadata": {},
     "output_type": "execute_result"
    }
   ],
   "source": [
    "11//2"
   ]
  },
  {
   "cell_type": "markdown",
   "metadata": {},
   "source": [
    "### Working With Integers"
   ]
  },
  {
   "cell_type": "code",
   "execution_count": 6,
   "metadata": {},
   "outputs": [
    {
     "name": "stdout",
     "output_type": "stream",
     "text": [
      "Enter your total bill\n",
      "3\n"
     ]
    },
    {
     "data": {
      "text/plain": [
       "int"
      ]
     },
     "execution_count": 6,
     "metadata": {},
     "output_type": "execute_result"
    }
   ],
   "source": [
    "bill = int(input('Enter your total bill\\n')) # Rule -> INput: Always string/Casting Interger(int(input))\n",
    "type(bill)"
   ]
  },
  {
   "cell_type": "code",
   "execution_count": 5,
   "metadata": {},
   "outputs": [
    {
     "name": "stdout",
     "output_type": "stream",
     "text": [
      "enter your total bill\n",
      "3\n",
      "your total bill is  3\n",
      "<class 'int'>\n"
     ]
    }
   ],
   "source": [
    "bill = int (input('enter your total bill\\n')) # Rule : <- Input: it always returns String.. | Casting  Integer< int(input)\n",
    "print('your total bill is ',bill)\n",
    "print(type(bill))"
   ]
  },
  {
   "cell_type": "code",
   "execution_count": null,
   "metadata": {},
   "outputs": [],
   "source": []
  },
  {
   "cell_type": "code",
   "execution_count": null,
   "metadata": {},
   "outputs": [],
   "source": []
  },
  {
   "cell_type": "code",
   "execution_count": 154,
   "metadata": {},
   "outputs": [
    {
     "name": "stdout",
     "output_type": "stream",
     "text": [
      "Enter Number\n",
      "4\n",
      "4 * 1 = 4\n",
      "4 * 2 = 8\n",
      "4 * 3 = 12\n",
      "4 * 4 = 16\n",
      "4 * 5 = 20\n",
      "4 * 6 = 24\n",
      "4 * 7 = 28\n",
      "4 * 8 = 32\n",
      "4 * 9 = 36\n",
      "4 * 10 = 40\n"
     ]
    }
   ],
   "source": [
    "tbl= int(input('Enter Number\\n'))\n",
    "for i in range(1,11):\n",
    "    print(tbl,'*',i,'=',(tbl*i))"
   ]
  },
  {
   "cell_type": "markdown",
   "metadata": {},
   "source": [
    "## Methods"
   ]
  },
  {
   "cell_type": "markdown",
   "metadata": {},
   "source": [
    "#### Are Always associated with objects"
   ]
  },
  {
   "cell_type": "code",
   "execution_count": 188,
   "metadata": {},
   "outputs": [],
   "source": [
    "class Vehicle:\n",
    "    def _init_(self,color):\n",
    "        self.color=color\n",
    "        \n",
    "    def showColor(self):\n",
    "        print('Color is ',self.color)\n",
    "    \n",
    "    def changecolor(self):\n",
    "        self.color='Blue'\n"
   ]
  },
  {
   "cell_type": "code",
   "execution_count": 192,
   "metadata": {},
   "outputs": [
    {
     "ename": "TypeError",
     "evalue": "Vehicle() takes no arguments",
     "output_type": "error",
     "traceback": [
      "\u001b[1;31m---------------------------------------------------------------------------\u001b[0m",
      "\u001b[1;31mTypeError\u001b[0m                                 Traceback (most recent call last)",
      "\u001b[1;32m<ipython-input-192-ee410e1a2856>\u001b[0m in \u001b[0;36m<module>\u001b[1;34m\u001b[0m\n\u001b[1;32m----> 1\u001b[1;33m \u001b[0mcar\u001b[0m\u001b[1;33m=\u001b[0m \u001b[0mVehicle\u001b[0m\u001b[1;33m(\u001b[0m\u001b[1;34m'Red'\u001b[0m\u001b[1;33m)\u001b[0m\u001b[1;33m\u001b[0m\u001b[1;33m\u001b[0m\u001b[0m\n\u001b[0m",
      "\u001b[1;31mTypeError\u001b[0m: Vehicle() takes no arguments"
     ]
    }
   ],
   "source": [
    "car= Vehicle('Red')"
   ]
  },
  {
   "cell_type": "code",
   "execution_count": 191,
   "metadata": {},
   "outputs": [
    {
     "data": {
      "text/plain": [
       "<function __main__.Vehicle.showColor(self)>"
      ]
     },
     "execution_count": 191,
     "metadata": {},
     "output_type": "execute_result"
    }
   ],
   "source": [
    "Vehicle.showColor"
   ]
  },
  {
   "cell_type": "code",
   "execution_count": null,
   "metadata": {},
   "outputs": [],
   "source": []
  },
  {
   "cell_type": "code",
   "execution_count": null,
   "metadata": {},
   "outputs": [],
   "source": []
  },
  {
   "cell_type": "markdown",
   "metadata": {},
   "source": [
    "#### Functions are not associated with objects\n",
    "#### Do not change the state of the object"
   ]
  },
  {
   "cell_type": "code",
   "execution_count": null,
   "metadata": {},
   "outputs": [],
   "source": []
  },
  {
   "cell_type": "markdown",
   "metadata": {},
   "source": [
    "## Lambda \n",
    "### Map ,Filter and  Reduce Functions"
   ]
  },
  {
   "cell_type": "code",
   "execution_count": 194,
   "metadata": {},
   "outputs": [],
   "source": [
    "def getsquared(num):\n",
    "    return num*num"
   ]
  },
  {
   "cell_type": "code",
   "execution_count": 196,
   "metadata": {},
   "outputs": [],
   "source": [
    "getsq = lambda x:x*x "
   ]
  },
  {
   "cell_type": "code",
   "execution_count": 197,
   "metadata": {},
   "outputs": [
    {
     "data": {
      "text/plain": [
       "9"
      ]
     },
     "execution_count": 197,
     "metadata": {},
     "output_type": "execute_result"
    }
   ],
   "source": [
    "getsq(3)"
   ]
  },
  {
   "cell_type": "code",
   "execution_count": 198,
   "metadata": {},
   "outputs": [],
   "source": [
    "getnxt = lambda x: x+1 \n",
    "             #I/P  #Returns x+1    "
   ]
  },
  {
   "cell_type": "code",
   "execution_count": 199,
   "metadata": {},
   "outputs": [
    {
     "data": {
      "text/plain": [
       "6"
      ]
     },
     "execution_count": 199,
     "metadata": {},
     "output_type": "execute_result"
    }
   ],
   "source": [
    "getnxt(5)"
   ]
  },
  {
   "cell_type": "code",
   "execution_count": 200,
   "metadata": {},
   "outputs": [],
   "source": [
    "addit = lambda a,b: a+b"
   ]
  },
  {
   "cell_type": "code",
   "execution_count": 201,
   "metadata": {},
   "outputs": [
    {
     "data": {
      "text/plain": [
       "45"
      ]
     },
     "execution_count": 201,
     "metadata": {},
     "output_type": "execute_result"
    }
   ],
   "source": [
    "addit(10,35)"
   ]
  },
  {
   "cell_type": "markdown",
   "metadata": {},
   "source": [
    "### Map"
   ]
  },
  {
   "cell_type": "code",
   "execution_count": 202,
   "metadata": {},
   "outputs": [],
   "source": [
    "num=[1,2,3,4,5]\n"
   ]
  },
  {
   "cell_type": "code",
   "execution_count": 204,
   "metadata": {},
   "outputs": [
    {
     "data": {
      "text/plain": [
       "[1, 4, 9, 16, 25]"
      ]
     },
     "execution_count": 204,
     "metadata": {},
     "output_type": "execute_result"
    }
   ],
   "source": [
    "# Calculate Sq for each number/Map\n",
    "list(map(lambda x:x*x ,num)) # Map function runs loops internally\n"
   ]
  },
  {
   "cell_type": "code",
   "execution_count": 205,
   "metadata": {},
   "outputs": [],
   "source": [
    "users=['ram','kishore','shyam']"
   ]
  },
  {
   "cell_type": "code",
   "execution_count": null,
   "metadata": {},
   "outputs": [],
   "source": [
    "list(map())"
   ]
  },
  {
   "cell_type": "code",
   "execution_count": null,
   "metadata": {},
   "outputs": [],
   "source": []
  },
  {
   "cell_type": "markdown",
   "metadata": {},
   "source": [
    "### Filter\n",
    "#### Use to Extract the subset not computing the values"
   ]
  },
  {
   "cell_type": "code",
   "execution_count": 206,
   "metadata": {},
   "outputs": [],
   "source": [
    "num=[1,2,3,4,5,6,7,8,9,10]"
   ]
  },
  {
   "cell_type": "code",
   "execution_count": 209,
   "metadata": {},
   "outputs": [
    {
     "data": {
      "text/plain": [
       "[2, 4, 6, 8, 10]"
      ]
     },
     "execution_count": 209,
     "metadata": {},
     "output_type": "execute_result"
    }
   ],
   "source": [
    "list(filter(lambda n: n%2==0,num))"
   ]
  },
  {
   "cell_type": "code",
   "execution_count": 210,
   "metadata": {},
   "outputs": [],
   "source": [
    "\n",
    "junk = [1,2,3,'A','B','C',True,False]"
   ]
  },
  {
   "cell_type": "code",
   "execution_count": 211,
   "metadata": {},
   "outputs": [
    {
     "data": {
      "text/plain": [
       "['A', 'B', 'C']"
      ]
     },
     "execution_count": 211,
     "metadata": {},
     "output_type": "execute_result"
    }
   ],
   "source": [
    "list(filter(lambda item:isinstance(item,str),junk))"
   ]
  },
  {
   "cell_type": "markdown",
   "metadata": {},
   "source": [
    "### Reduce\n",
    "#### Aggregate Computing "
   ]
  },
  {
   "cell_type": "code",
   "execution_count": 214,
   "metadata": {},
   "outputs": [],
   "source": [
    "from functools import reduce\n",
    "l=[1,2,3,4,5]\n",
    "# Sum of all the number \n",
    "#a : (a+b): b is new element"
   ]
  },
  {
   "cell_type": "code",
   "execution_count": 215,
   "metadata": {},
   "outputs": [
    {
     "data": {
      "text/plain": [
       "15"
      ]
     },
     "execution_count": 215,
     "metadata": {},
     "output_type": "execute_result"
    }
   ],
   "source": [
    "reduce(lambda a,b:a+b,l)"
   ]
  },
  {
   "cell_type": "markdown",
   "metadata": {},
   "source": [
    "### Common Programme Practices "
   ]
  },
  {
   "cell_type": "code",
   "execution_count": 216,
   "metadata": {},
   "outputs": [],
   "source": [
    "message='to-be-or-not-to-be-is-the-question'"
   ]
  },
  {
   "cell_type": "code",
   "execution_count": 226,
   "metadata": {},
   "outputs": [
    {
     "data": {
      "text/plain": [
       "['to', 'be', 'or', 'not', 'to', 'be', 'is', 'the', 'question']"
      ]
     },
     "execution_count": 226,
     "metadata": {},
     "output_type": "execute_result"
    }
   ],
   "source": [
    "# Splitting into list of words\n",
    "words=message.split('-')\n",
    "words"
   ]
  },
  {
   "cell_type": "code",
   "execution_count": 225,
   "metadata": {},
   "outputs": [
    {
     "data": {
      "text/plain": [
       "'to be or not to be is the question'"
      ]
     },
     "execution_count": 225,
     "metadata": {},
     "output_type": "execute_result"
    }
   ],
   "source": [
    "# Joining them back\n",
    "result= ' '.join(words)\n",
    "result"
   ]
  },
  {
   "cell_type": "code",
   "execution_count": 7,
   "metadata": {},
   "outputs": [
    {
     "data": {
      "text/plain": [
       "1"
      ]
     },
     "execution_count": 7,
     "metadata": {},
     "output_type": "execute_result"
    }
   ],
   "source": [
    "((500//7) % 5) ** 3"
   ]
  },
  {
   "cell_type": "code",
   "execution_count": 10,
   "metadata": {},
   "outputs": [
    {
     "data": {
      "text/plain": [
       "'love'"
      ]
     },
     "execution_count": 10,
     "metadata": {},
     "output_type": "execute_result"
    }
   ],
   "source": [
    "S='I love Python'\n",
    "S[2:6]"
   ]
  },
  {
   "cell_type": "code",
   "execution_count": 14,
   "metadata": {},
   "outputs": [
    {
     "data": {
      "text/plain": [
       "'love'"
      ]
     },
     "execution_count": 14,
     "metadata": {},
     "output_type": "execute_result"
    }
   ],
   "source": [
    "S[-11:-7]"
   ]
  },
  {
   "cell_type": "code",
   "execution_count": 15,
   "metadata": {},
   "outputs": [
    {
     "data": {
      "text/plain": [
       "81"
      ]
     },
     "execution_count": 15,
     "metadata": {},
     "output_type": "execute_result"
    }
   ],
   "source": [
    "3 * 3 ** 3"
   ]
  },
  {
   "cell_type": "code",
   "execution_count": 16,
   "metadata": {},
   "outputs": [
    {
     "data": {
      "text/plain": [
       "81"
      ]
     },
     "execution_count": 16,
     "metadata": {},
     "output_type": "execute_result"
    }
   ],
   "source": [
    "27*3"
   ]
  },
  {
   "cell_type": "code",
   "execution_count": 22,
   "metadata": {},
   "outputs": [
    {
     "name": "stdout",
     "output_type": "stream",
     "text": [
      "1\n",
      "2\n",
      "3\n"
     ]
    }
   ],
   "source": [
    "D = {1:['Raj', 22], 2:['Simran', 21], 3:['Rahul', 40]}\n",
    "for val in D:\n",
    "     print(val)"
   ]
  },
  {
   "cell_type": "code",
   "execution_count": 23,
   "metadata": {},
   "outputs": [
    {
     "name": "stdout",
     "output_type": "stream",
     "text": [
      "[10, 9, 8, 7, 6, 5, 4, 3, 2]\n"
     ]
    }
   ],
   "source": [
    "print(list(range(10, 1, -1)))"
   ]
  },
  {
   "cell_type": "markdown",
   "metadata": {},
   "source": [
    "# Applications(Games)"
   ]
  },
  {
   "cell_type": "markdown",
   "metadata": {},
   "source": [
    "## Guess the number\n",
    "### Expect name from user\n",
    "### Generate a randn (1-20)\n",
    "### Run a loop for 6 attempts to enter a number\n"
   ]
  },
  {
   "cell_type": "code",
   "execution_count": 11,
   "metadata": {},
   "outputs": [],
   "source": [
    "import random "
   ]
  },
  {
   "cell_type": "code",
   "execution_count": 14,
   "metadata": {},
   "outputs": [
    {
     "name": "stdout",
     "output_type": "stream",
     "text": [
      "Hello! Whats your Name\n",
      "\n",
      "Vijay\n",
      "Enter number :10\n",
      "Number is Too High\n",
      "Enter number :5\n",
      "Number is too less\n",
      "Enter number :7\n",
      "Number is too less\n",
      "Enter number :8\n",
      "Your Guess Matched Vijay and the number is  8\n"
     ]
    }
   ],
   "source": [
    "N = random.randint(1,20)\n",
    "print('Hello! Whats your Name\\n')\n",
    "myname=input()\n",
    "\n",
    "for i in range(0,6):\n",
    "    n = int(input('Enter number :'))\n",
    "    if n>N:\n",
    "        print('Number is Too High')\n",
    "    elif n<N:\n",
    "        print('Number is too less')\n",
    "    else:\n",
    "        print('Your Guess Matched',myname, 'and the number is ',N)\n",
    "        break\n",
    "else : # This else is for the FOR Loop in python equivalent to if i==max()\n",
    "    print('Ran out of Guesses !') # else block executes only if the loop gets completed without 'break' \n"
   ]
  },
  {
   "cell_type": "markdown",
   "metadata": {},
   "source": [
    "## Rock,Paper,Scissors\n"
   ]
  },
  {
   "cell_type": "code",
   "execution_count": 16,
   "metadata": {},
   "outputs": [
    {
     "name": "stdout",
     "output_type": "stream",
     "text": [
      "0 Wins, 0 Losses, 0 Ties,0 Attempts\n",
      "Your Move from R/P/S/Q \t:r\n",
      "You Won and CC is  R\n",
      "1 Wins, 0 Losses, 0 Ties,1 Attempts\n",
      "Your Move from R/P/S/Q \t:p\n",
      "You Won and CC is  R\n",
      "2 Wins, 0 Losses, 0 Ties,2 Attempts\n",
      "Your Move from R/P/S/Q \t:r\n",
      "You Won and CC is  P\n",
      "3 Wins, 0 Losses, 0 Ties,3 Attempts\n",
      "Your Move from R/P/S/Q \t:Q\n",
      "You choose to quit!\n"
     ]
    },
    {
     "ename": "SystemExit",
     "evalue": "",
     "output_type": "error",
     "traceback": [
      "An exception has occurred, use %tb to see the full traceback.\n",
      "\u001b[1;31mSystemExit\u001b[0m\n"
     ]
    }
   ],
   "source": [
    "import random,sys\n",
    "\n",
    "Attempts =0\n",
    "Wins=0\n",
    "Losses=0\n",
    "Ties=0\n",
    "S=['R','P','S']\n",
    "while True: # The main game loop.\n",
    "    print('%s Wins, %s Losses, %s Ties,%s Attempts' % (Wins, Losses, Ties, Attempts))\n",
    "    CC=random.choice(S)\n",
    "    Choice=input('Your Move from R/P/S/Q \\t:')\n",
    "    C = random.randint(1,3)\n",
    "    dict={1:'P',2:'R',3:'S'}\n",
    "    CC = dict[C]\n",
    "    \n",
    "    if Choice=='Q':\n",
    "        print('You choose to quit!')\n",
    "        sys.exit()\n",
    "    elif (Choice=='P') & (CC=='S'):\n",
    "        print('You Lost and CC is',CC)\n",
    "        Losses+=1\n",
    "    elif (Choice=='R') & (CC=='P'):\n",
    "        print('You Lost and  CC is ',CC)\n",
    "        Losses+=1\n",
    "    elif (Choice=='S') & (CC=='R'):\n",
    "        print('You Lost and  CC is ',CC)\n",
    "        Losses+=1\n",
    "    elif Choice==CC:\n",
    "        print('Its a Tie! and  CC is ',CC)\n",
    "        Ties+=1\n",
    "    else:\n",
    "        print('You Won and CC is ',CC)\n",
    "        Wins+=1\n",
    "    Attempts +=1"
   ]
  },
  {
   "cell_type": "markdown",
   "metadata": {},
   "source": [
    "## GUI Automation\n",
    "#### Allows to operate Mouse and Keyboard\n"
   ]
  },
  {
   "cell_type": "code",
   "execution_count": null,
   "metadata": {},
   "outputs": [],
   "source": [
    "import pyautogui"
   ]
  },
  {
   "cell_type": "code",
   "execution_count": null,
   "metadata": {},
   "outputs": [],
   "source": [
    "pyautogui.move(100,100)"
   ]
  },
  {
   "cell_type": "code",
   "execution_count": null,
   "metadata": {},
   "outputs": [],
   "source": [
    "# Get current mouse posotion \n",
    "pyautogui.position()"
   ]
  },
  {
   "cell_type": "code",
   "execution_count": null,
   "metadata": {},
   "outputs": [],
   "source": [
    "pyautogui.drag(100,0,duration=0.25)"
   ]
  },
  {
   "cell_type": "code",
   "execution_count": null,
   "metadata": {},
   "outputs": [],
   "source": [
    "pyautogui.click(100,200)"
   ]
  },
  {
   "cell_type": "code",
   "execution_count": null,
   "metadata": {},
   "outputs": [],
   "source": [
    "# Sprial Drag\n",
    "import pyautogui, time\n",
    "time.sleep(5)\n",
    "pyautogui.click()    # Click to make the window active.\n",
    "distance = 300\n",
    "change = 5\n",
    "while distance > 0:\n",
    "    pyautogui.drag(distance, 0, duration=0.2)   # Move right.\n",
    "    distance = distance - change\n",
    "    pyautogui.drag(0, distance, duration=0.2)   # Move down.\n",
    "    pyautogui.drag(-distance, 0, duration=0.2)  # Move left.\n",
    "    distance = distance - change\n",
    "    pyautogui.drag(0, -distance, duration=0.2)  # Move up."
   ]
  },
  {
   "cell_type": "markdown",
   "metadata": {},
   "source": [
    "## StopWatch"
   ]
  },
  {
   "cell_type": "code",
   "execution_count": 17,
   "metadata": {},
   "outputs": [
    {
     "name": "stdout",
     "output_type": "stream",
     "text": [
      "Press ENTER to begin. Afterward, press ENTER to \"click\" the stopwatch. Press ENTER again to stop it!\n",
      "\n",
      "Started.\n",
      "\n",
      "Time taken: 3.0 \n",
      "\n",
      "Done.\n"
     ]
    }
   ],
   "source": [
    "import time\n",
    "\n",
    "print('Press ENTER to begin. Afterward, press ENTER to \"click\" the stopwatch. Press ENTER again to stop it!')\n",
    "input()                    # press Enter to begin\n",
    "print('Started.')\n",
    "startTime = time.time()    # Set current time as the start time\n",
    "input()                    # Press Enter to stop\n",
    "totalTime = round(time.time() - startTime, 2) # On stopping the stopwatch, get the difference between the current time \n",
    "                                              # and start time rounded to 2 decimal places\n",
    "print('Time taken: %s ' % (totalTime), end='')\n",
    "print('\\n\\nDone.')"
   ]
  },
  {
   "cell_type": "code",
   "execution_count": null,
   "metadata": {},
   "outputs": [],
   "source": []
  }
 ],
 "metadata": {
  "kernelspec": {
   "display_name": "Python 3",
   "language": "python",
   "name": "python3"
  },
  "language_info": {
   "codemirror_mode": {
    "name": "ipython",
    "version": 3
   },
   "file_extension": ".py",
   "mimetype": "text/x-python",
   "name": "python",
   "nbconvert_exporter": "python",
   "pygments_lexer": "ipython3",
   "version": "3.7.4"
  }
 },
 "nbformat": 4,
 "nbformat_minor": 2
}
